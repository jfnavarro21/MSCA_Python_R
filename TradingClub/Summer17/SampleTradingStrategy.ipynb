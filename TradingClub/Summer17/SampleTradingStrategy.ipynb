{
 "cells": [
  {
   "cell_type": "code",
   "execution_count": 1,
   "metadata": {
    "collapsed": true
   },
   "outputs": [],
   "source": [
    "import pandas as pd\n",
    "from datetime import datetime as dt\n",
    "import sys"
   ]
  },
  {
   "cell_type": "code",
   "execution_count": 2,
   "metadata": {
    "collapsed": true
   },
   "outputs": [],
   "source": [
    "dat = None"
   ]
  },
  {
   "cell_type": "code",
   "execution_count": 3,
   "metadata": {},
   "outputs": [],
   "source": [
    "dat = pd.read_csv(\"/home/michael/Documents/csv_data/BTC_ETH.csv\")"
   ]
  },
  {
   "cell_type": "code",
   "execution_count": 38,
   "metadata": {},
   "outputs": [
    {
     "data": {
      "text/html": [
       "<div>\n",
       "<style>\n",
       "    .dataframe thead tr:only-child th {\n",
       "        text-align: right;\n",
       "    }\n",
       "\n",
       "    .dataframe thead th {\n",
       "        text-align: left;\n",
       "    }\n",
       "\n",
       "    .dataframe tbody tr th {\n",
       "        vertical-align: top;\n",
       "    }\n",
       "</style>\n",
       "<table border=\"1\" class=\"dataframe\">\n",
       "  <thead>\n",
       "    <tr style=\"text-align: right;\">\n",
       "      <th></th>\n",
       "      <th>Unnamed: 0</th>\n",
       "      <th>baseVolume</th>\n",
       "      <th>high24hr</th>\n",
       "      <th>highestBid</th>\n",
       "      <th>id</th>\n",
       "      <th>isFrozen</th>\n",
       "      <th>last</th>\n",
       "      <th>low24hr</th>\n",
       "      <th>lowestAsk</th>\n",
       "      <th>pair_id</th>\n",
       "      <th>percentChange</th>\n",
       "      <th>quoteVolume</th>\n",
       "      <th>time</th>\n",
       "    </tr>\n",
       "  </thead>\n",
       "  <tbody>\n",
       "    <tr>\n",
       "      <th>0</th>\n",
       "      <td>0</td>\n",
       "      <td>37358.253282</td>\n",
       "      <td>0.1204</td>\n",
       "      <td>0.113916</td>\n",
       "      <td>148</td>\n",
       "      <td>0</td>\n",
       "      <td>0.114100</td>\n",
       "      <td>0.1105</td>\n",
       "      <td>0.114100</td>\n",
       "      <td>BTC_ETH</td>\n",
       "      <td>-0.012058</td>\n",
       "      <td>321874.117087</td>\n",
       "      <td>2017-06-30 18:54:20.655554</td>\n",
       "    </tr>\n",
       "    <tr>\n",
       "      <th>1</th>\n",
       "      <td>1</td>\n",
       "      <td>37415.448498</td>\n",
       "      <td>0.1204</td>\n",
       "      <td>0.114000</td>\n",
       "      <td>148</td>\n",
       "      <td>0</td>\n",
       "      <td>0.114100</td>\n",
       "      <td>0.1105</td>\n",
       "      <td>0.114100</td>\n",
       "      <td>BTC_ETH</td>\n",
       "      <td>-0.011279</td>\n",
       "      <td>322377.191431</td>\n",
       "      <td>2017-06-30 18:54:30.737082</td>\n",
       "    </tr>\n",
       "    <tr>\n",
       "      <th>2</th>\n",
       "      <td>2</td>\n",
       "      <td>37415.448498</td>\n",
       "      <td>0.1204</td>\n",
       "      <td>0.114024</td>\n",
       "      <td>148</td>\n",
       "      <td>0</td>\n",
       "      <td>0.114024</td>\n",
       "      <td>0.1105</td>\n",
       "      <td>0.114100</td>\n",
       "      <td>BTC_ETH</td>\n",
       "      <td>-0.014293</td>\n",
       "      <td>322377.191431</td>\n",
       "      <td>2017-06-30 18:54:40.813797</td>\n",
       "    </tr>\n",
       "    <tr>\n",
       "      <th>3</th>\n",
       "      <td>3</td>\n",
       "      <td>37415.448498</td>\n",
       "      <td>0.1204</td>\n",
       "      <td>0.114088</td>\n",
       "      <td>148</td>\n",
       "      <td>0</td>\n",
       "      <td>0.114100</td>\n",
       "      <td>0.1105</td>\n",
       "      <td>0.114100</td>\n",
       "      <td>BTC_ETH</td>\n",
       "      <td>-0.011986</td>\n",
       "      <td>322377.191431</td>\n",
       "      <td>2017-06-30 18:54:50.884140</td>\n",
       "    </tr>\n",
       "    <tr>\n",
       "      <th>4</th>\n",
       "      <td>4</td>\n",
       "      <td>37415.448498</td>\n",
       "      <td>0.1204</td>\n",
       "      <td>0.114088</td>\n",
       "      <td>148</td>\n",
       "      <td>0</td>\n",
       "      <td>0.114088</td>\n",
       "      <td>0.1105</td>\n",
       "      <td>0.114298</td>\n",
       "      <td>BTC_ETH</td>\n",
       "      <td>-0.012891</td>\n",
       "      <td>322377.191431</td>\n",
       "      <td>2017-06-30 18:55:00.957007</td>\n",
       "    </tr>\n",
       "  </tbody>\n",
       "</table>\n",
       "</div>"
      ],
      "text/plain": [
       "   Unnamed: 0    baseVolume  high24hr  highestBid   id  isFrozen      last  \\\n",
       "0           0  37358.253282    0.1204    0.113916  148         0  0.114100   \n",
       "1           1  37415.448498    0.1204    0.114000  148         0  0.114100   \n",
       "2           2  37415.448498    0.1204    0.114024  148         0  0.114024   \n",
       "3           3  37415.448498    0.1204    0.114088  148         0  0.114100   \n",
       "4           4  37415.448498    0.1204    0.114088  148         0  0.114088   \n",
       "\n",
       "   low24hr  lowestAsk  pair_id  percentChange    quoteVolume  \\\n",
       "0   0.1105   0.114100  BTC_ETH      -0.012058  321874.117087   \n",
       "1   0.1105   0.114100  BTC_ETH      -0.011279  322377.191431   \n",
       "2   0.1105   0.114100  BTC_ETH      -0.014293  322377.191431   \n",
       "3   0.1105   0.114100  BTC_ETH      -0.011986  322377.191431   \n",
       "4   0.1105   0.114298  BTC_ETH      -0.012891  322377.191431   \n",
       "\n",
       "                         time  \n",
       "0  2017-06-30 18:54:20.655554  \n",
       "1  2017-06-30 18:54:30.737082  \n",
       "2  2017-06-30 18:54:40.813797  \n",
       "3  2017-06-30 18:54:50.884140  \n",
       "4  2017-06-30 18:55:00.957007  "
      ]
     },
     "execution_count": 38,
     "metadata": {},
     "output_type": "execute_result"
    }
   ],
   "source": [
    "dat.head()"
   ]
  },
  {
   "cell_type": "code",
   "execution_count": 30,
   "metadata": {},
   "outputs": [
    {
     "ename": "AttributeError",
     "evalue": "'numpy.ndarray' object has no attribute 'pop'",
     "output_type": "error",
     "traceback": [
      "\u001b[0;31m---------------------------------------------------------------------------\u001b[0m",
      "\u001b[0;31mAttributeError\u001b[0m                            Traceback (most recent call last)",
      "\u001b[0;32m<ipython-input-30-9f41665f5de7>\u001b[0m in \u001b[0;36m<module>\u001b[0;34m()\u001b[0m\n\u001b[1;32m      1\u001b[0m \u001b[0mprice\u001b[0m \u001b[0;34m=\u001b[0m \u001b[0mdat\u001b[0m\u001b[0;34m.\u001b[0m\u001b[0mloc\u001b[0m\u001b[0;34m[\u001b[0m\u001b[0;34m:\u001b[0m\u001b[0;34m,\u001b[0m\u001b[0;34m\"last\"\u001b[0m\u001b[0;34m]\u001b[0m\u001b[0;34m.\u001b[0m\u001b[0mvalues\u001b[0m\u001b[0;34m\u001b[0m\u001b[0m\n\u001b[0;32m----> 2\u001b[0;31m \u001b[0mprice\u001b[0m\u001b[0;34m.\u001b[0m\u001b[0mpop\u001b[0m\u001b[0;34m(\u001b[0m\u001b[0;34m\"last\"\u001b[0m\u001b[0;34m)\u001b[0m\u001b[0;34m\u001b[0m\u001b[0m\n\u001b[0m",
      "\u001b[0;31mAttributeError\u001b[0m: 'numpy.ndarray' object has no attribute 'pop'"
     ]
    }
   ],
   "source": [
    "price = dat.loc[:,\"last\"].values\n",
    "price.pop(\"last\")"
   ]
  },
  {
   "cell_type": "code",
   "execution_count": 5,
   "metadata": {
    "collapsed": true
   },
   "outputs": [],
   "source": [
    "time = dat.loc[:,\"time\"].values\n",
    "#time = [dt.strptime(t,\"%Y-%m-%d %H:%M:%S.%f\") for t in time]\n"
   ]
  },
  {
   "cell_type": "code",
   "execution_count": 8,
   "metadata": {},
   "outputs": [],
   "source": [
    "time3 = [dt.strptime(t,\"%Y-%m-%d %H:%M:%S.%f\") for t in time]\n",
    "price = dat.loc[:,\"last\"].values\n",
    "aapl = pd.DataFrame({\"prices\":price},index=time3)\n"
   ]
  },
  {
   "cell_type": "code",
   "execution_count": 13,
   "metadata": {},
   "outputs": [],
   "source": [
    "# Initialize the short and long windows\n",
    "\n",
    "import numpy as np\n",
    "short_window = 40\n",
    "long_window = 100\n",
    "\n",
    "# Initialize the `signals` DataFrame with the `signal` column\n",
    "signals = pd.DataFrame(index=aapl.index)\n",
    "signals['signal'] = 0.0\n",
    "\n",
    "# Create short simple moving average over the short window\n",
    "signals['short_mavg'] = aapl.loc[:,'prices'].rolling(window=short_window, min_periods=1, center=False).mean()\n",
    "\n",
    "# Create long simple moving average over the long window\n",
    "signals['long_mavg'] = aapl.loc[:,'prices'].rolling(window=long_window, min_periods=1, center=False).mean()\n",
    "\n",
    "# Create signals\n",
    "signals['signal'][short_window:] = np.where(signals['short_mavg'][short_window:] \n",
    "                                            > signals['long_mavg'][short_window:], 1.0, 0.0)   \n",
    "\n",
    "# Generate trading orders\n",
    "signals['positions'] = signals['signal'].diff()"
   ]
  },
  {
   "cell_type": "code",
   "execution_count": 18,
   "metadata": {},
   "outputs": [
    {
     "data": {
      "image/png": "[encoded data removed]",
      "text/plain": [
       "<matplotlib.figure.Figure at 0x7f7dc8107a58>"
      ]
     },
     "metadata": {},
     "output_type": "display_data"
    }
   ],
   "source": [
    "\n",
    "import matplotlib.pyplot as plt\n",
    "# Initialize the plot figure\n",
    "fig = plt.figure()\n",
    "\n",
    "# Add a subplot and label for y-axis\n",
    "ax1 = fig.add_subplot(111,  ylabel='Price in $')\n",
    "\n",
    "# Plot the closing price\n",
    "aapl.loc[:,'prices'].plot(ax=ax1, color='r', lw=2.)\n",
    "\n",
    "# Plot the short and long moving averages\n",
    "signals[['short_mavg', 'long_mavg']].plot(ax=ax1, lw=2.)\n",
    "\n",
    "# Plot the buy signals\n",
    "ax1.plot(signals.loc[signals.positions == 1.0].index, \n",
    "         signals.short_mavg[signals.positions == 1.0],\n",
    "         '^', markersize=10, color='m')\n",
    "         \n",
    "# Plot the sell signals\n",
    "ax1.plot(signals.loc[signals.positions == -1.0].index, \n",
    "         signals.short_mavg[signals.positions == -1.0],\n",
    "         'v', markersize=10, color='k')\n",
    "         \n",
    "# Show the plot\n",
    "plt.show()\n",
    "\n"
   ]
  },
  {
   "cell_type": "code",
   "execution_count": 22,
   "metadata": {},
   "outputs": [],
   "source": [
    "\n",
    "# Set the initial capital\n",
    "initial_capital= float(100000.0)\n",
    "\n",
    "# Create a DataFrame `positions`\n",
    "positions = pd.DataFrame(index=signals.index).fillna(0.0)\n",
    "\n",
    "# Buy a 100 shares\n",
    "positions['AAPL'] = 100*signals['signal']   \n",
    "  \n",
    "# Initialize the portfolio with value owned   \n",
    "portfolio = positions.multiply(aapl.loc[:,'prices'], axis=0)\n",
    "\n",
    "# Store the difference in shares owned \n",
    "pos_diff = positions.diff()\n",
    "\n",
    "# Add `holdings` to portfolio\n",
    "portfolio['holdings'] = (positions.multiply(aapl.loc[:,'prices'], axis=0)).sum(axis=1)\n",
    "\n",
    "# Add `cash` to portfolio\n",
    "portfolio['cash'] = initial_capital - (pos_diff.multiply(aapl.loc[:,'prices'], axis=0)).sum(axis=1).cumsum()   \n",
    "\n",
    "# Add `total` to portfolio\n",
    "portfolio['total'] = portfolio['cash'] + portfolio['holdings']\n",
    "\n",
    "# Add `returns` to portfolio\n",
    "portfolio['returns'] = portfolio['total'].pct_change()\n",
    "\n"
   ]
  },
  {
   "cell_type": "code",
   "execution_count": 23,
   "metadata": {},
   "outputs": [
    {
     "data": {
      "image/png": "[encoded data removed]",
      "text/plain": [
       "<matplotlib.figure.Figure at 0x7f7dc4811588>"
      ]
     },
     "metadata": {},
     "output_type": "display_data"
    }
   ],
   "source": [
    "import matplotlib.pyplot as plt\n",
    "\n",
    "fig = plt.figure()\n",
    "\n",
    "ax1 = fig.add_subplot(111, ylabel='Portfolio value in $')\n",
    "\n",
    "# Plot the equity curve in dollars\n",
    "portfolio['total'].plot(ax=ax1, lw=2.)\n",
    "\n",
    "# Plot the \"buy\" trades against the equity curve\n",
    "ax1.plot(portfolio.loc[signals.positions == 1.0].index, \n",
    "         portfolio.total[signals.positions == 1.0],\n",
    "         '^', markersize=10, color='m')\n",
    "\n",
    "# Plot the \"sell\" trades against the equity curve\n",
    "ax1.plot(portfolio.loc[signals.positions == -1.0].index, \n",
    "         portfolio.total[signals.positions == -1.0],\n",
    "         'v', markersize=10, color='k')\n",
    "\n",
    "# Show the plot\n",
    "plt.show()"
   ]
  }
 ],
 "metadata": {
  "kernelspec": {
   "display_name": "Python 3",
   "language": "python",
   "name": "python3"
  },
  "language_info": {
   "codemirror_mode": {
    "name": "ipython",
    "version": 3
   },
   "file_extension": ".py",
   "mimetype": "text/x-python",
   "name": "python",
   "nbconvert_exporter": "python",
   "pygments_lexer": "ipython3",
   "version": "3.6.1"
  }
 },
 "nbformat": 4,
 "nbformat_minor": 2
}
