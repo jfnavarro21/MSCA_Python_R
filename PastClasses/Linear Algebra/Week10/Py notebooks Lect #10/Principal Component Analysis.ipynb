{
 "cells": [
  {
   "cell_type": "code",
   "execution_count": 19,
   "metadata": {
    "collapsed": false
   },
   "outputs": [
    {
     "data": {
      "text/plain": [
       "array([[10, 20, 10],\n",
       "       [ 2,  5,  2],\n",
       "       [ 8, 17,  7],\n",
       "       [ 9, 20, 10],\n",
       "       [12, 22, 11]])"
      ]
     },
     "execution_count": 19,
     "metadata": {},
     "output_type": "execute_result"
    }
   ],
   "source": [
    "import numpy as np\n",
    "\n",
    "X = np.array([[10,20,10],\n",
    "            [2,5,2],\n",
    "            [8,17,7],\n",
    "            [9,20,10],\n",
    "            [12,22,11]])\n",
    "X"
   ]
  },
  {
   "cell_type": "code",
   "execution_count": 20,
   "metadata": {
    "collapsed": false
   },
   "outputs": [
    {
     "name": "stdout",
     "output_type": "stream",
     "text": [
      "[[ 14.2   25.3   13.5 ]\n",
      " [ 25.3   46.7   24.75]\n",
      " [ 13.5   24.75  13.5 ]]\n"
     ]
    }
   ],
   "source": [
    "X = np.mat(X)\n",
    "meanVals = np.mean(X, axis=0)\n",
    "A = X - meanVals           # A - zero-,ean (centered) version of X\n",
    "C = np.cov(A, rowvar=0)    # C - covariance matrix of X\n",
    "\n",
    "print(C)"
   ]
  },
  {
   "cell_type": "code",
   "execution_count": 21,
   "metadata": {
    "collapsed": false
   },
   "outputs": [
    {
     "name": "stdout",
     "output_type": "stream",
     "text": [
      "[[ 14.2   25.3   13.5 ]\n",
      " [ 25.3   46.7   24.75]\n",
      " [ 13.5   24.75  13.5 ]]\n"
     ]
    }
   ],
   "source": [
    "# C is also (1/(N-1)) A.T*A\n",
    "print(np.dot(A.T,A)/(np.shape(X)[0]-1))"
   ]
  },
  {
   "cell_type": "code",
   "execution_count": 22,
   "metadata": {
    "collapsed": true
   },
   "outputs": [],
   "source": [
    "import scipy as sp"
   ]
  },
  {
   "cell_type": "code",
   "execution_count": 24,
   "metadata": {
    "collapsed": false
   },
   "outputs": [
    {
     "name": "stdout",
     "output_type": "stream",
     "text": [
      "Eigenvalues\n",
      "[ 73.72   0.38   0.3 ]\n",
      "\n",
      "Eigenvectors\n",
      "[[ 0.43  0.9  -0.04]\n",
      " [ 0.79 -0.41 -0.45]\n",
      " [ 0.42 -0.16  0.89]]\n"
     ]
    }
   ],
   "source": [
    "# Now we can obtain eigenvalues and eigenvectors of the covariance matrix:\n",
    "np.set_printoptions(precision=2,suppress=True)\n",
    "e, ev = np.linalg.eig(C)\n",
    "print(\"Eigenvalues\")\n",
    "print(e)\n",
    "print()\n",
    "print(\"Eigenvectors\")\n",
    "print(ev)"
   ]
  },
  {
   "cell_type": "code",
   "execution_count": 26,
   "metadata": {
    "collapsed": false
   },
   "outputs": [
    {
     "name": "stdout",
     "output_type": "stream",
     "text": [
      "[[  4.17   0.     0.26]\n",
      " [-14.61   0.17   0.25]\n",
      " [ -0.35  -0.1   -0.97]\n",
      " [  3.74  -0.9    0.3 ]\n",
      " [  7.05   0.83   0.16]]\n"
     ]
    }
   ],
   "source": [
    "# Transform the full data into the new feature space based on the eigenvectors:\n",
    "newFeatures = ev.T\n",
    "XTrans = np.dot(newFeatures, A.T)\n",
    "print(XTrans.T)"
   ]
  },
  {
   "cell_type": "code",
   "execution_count": 27,
   "metadata": {
    "collapsed": false
   },
   "outputs": [
    {
     "name": "stdout",
     "output_type": "stream",
     "text": [
      "[[  4.17]\n",
      " [-14.61]\n",
      " [ -0.35]\n",
      " [  3.74]\n",
      " [  7.05]]\n"
     ]
    }
   ],
   "source": [
    "#  Sort the eigenvectors in the decreasing order of their eigenvalues and take the top k:\n",
    "reducedFeatures = ev[:,0].T \n",
    "reducedXTrans = np.dot(reducedFeatures, A.T)\n",
    "print(reducedXTrans.T)"
   ]
  },
  {
   "cell_type": "code",
   "execution_count": null,
   "metadata": {
    "collapsed": true
   },
   "outputs": [],
   "source": [
    "# Could also use Scikitlearn\n"
   ]
  }
 ],
 "metadata": {
  "kernelspec": {
   "display_name": "Python 2",
   "language": "python",
   "name": "python2"
  },
  "language_info": {
   "codemirror_mode": {
    "name": "ipython",
    "version": 2
   },
   "file_extension": ".py",
   "mimetype": "text/x-python",
   "name": "python",
   "nbconvert_exporter": "python",
   "pygments_lexer": "ipython2",
   "version": "2.7.11"
  }
 },
 "nbformat": 4,
 "nbformat_minor": 0
}
