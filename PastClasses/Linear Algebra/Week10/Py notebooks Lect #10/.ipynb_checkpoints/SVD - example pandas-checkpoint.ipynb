{
 "cells": [
  {
   "cell_type": "code",
   "execution_count": 1,
   "metadata": {
    "collapsed": false
   },
   "outputs": [
    {
     "data": {
      "text/html": [
       "<div>\n",
       "<table border=\"1\" class=\"dataframe\">\n",
       "  <thead>\n",
       "    <tr style=\"text-align: right;\">\n",
       "      <th></th>\n",
       "      <th>post1</th>\n",
       "      <th>post2</th>\n",
       "      <th>post3</th>\n",
       "      <th>post4</th>\n",
       "    </tr>\n",
       "    <tr>\n",
       "      <th>word:</th>\n",
       "      <th></th>\n",
       "      <th></th>\n",
       "      <th></th>\n",
       "      <th></th>\n",
       "    </tr>\n",
       "  </thead>\n",
       "  <tbody>\n",
       "    <tr>\n",
       "      <th>ice</th>\n",
       "      <td>4</td>\n",
       "      <td>4</td>\n",
       "      <td>6</td>\n",
       "      <td>2</td>\n",
       "    </tr>\n",
       "    <tr>\n",
       "      <th>snow</th>\n",
       "      <td>6</td>\n",
       "      <td>1</td>\n",
       "      <td>0</td>\n",
       "      <td>5</td>\n",
       "    </tr>\n",
       "    <tr>\n",
       "      <th>tahoe</th>\n",
       "      <td>3</td>\n",
       "      <td>0</td>\n",
       "      <td>0</td>\n",
       "      <td>5</td>\n",
       "    </tr>\n",
       "    <tr>\n",
       "      <th>goal</th>\n",
       "      <td>0</td>\n",
       "      <td>6</td>\n",
       "      <td>5</td>\n",
       "      <td>1</td>\n",
       "    </tr>\n",
       "    <tr>\n",
       "      <th>puck</th>\n",
       "      <td>0</td>\n",
       "      <td>4</td>\n",
       "      <td>5</td>\n",
       "      <td>0</td>\n",
       "    </tr>\n",
       "  </tbody>\n",
       "</table>\n",
       "</div>"
      ],
      "text/plain": [
       "       post1  post2  post3  post4\n",
       "word:                            \n",
       "ice        4      4      6      2\n",
       "snow       6      1      0      5\n",
       "tahoe      3      0      0      5\n",
       "goal       0      6      5      1\n",
       "puck       0      4      5      0"
      ]
     },
     "execution_count": 1,
     "metadata": {},
     "output_type": "execute_result"
    }
   ],
   "source": [
    "# SVD could be used to classify similar objects\n",
    "import pandas as pd\n",
    "\n",
    "c_names = ['post1', 'post2', 'post3', 'post4']\n",
    "words = ['ice', 'snow', 'tahoe', 'goal', 'puck']\n",
    "post_words = pd.DataFrame([[4, 4, 6, 2],\n",
    "                           [6, 1, 0, 5],\n",
    "                           [3, 0, 0, 5],\n",
    "                           [0, 6, 5, 1],\n",
    "                           [0, 4, 5, 0]],\n",
    "                          index = words,\n",
    "                          columns = c_names)\n",
    "post_words.index.names = ['word:']\n",
    "post_words"
   ]
  },
  {
   "cell_type": "code",
   "execution_count": 4,
   "metadata": {
    "collapsed": false
   },
   "outputs": [
    {
     "name": "stdout",
     "output_type": "stream",
     "text": [
      "V = \n",
      "[[-0.4  -0.57 -0.63 -0.35]\n",
      " [-0.6   0.33  0.41 -0.6 ]\n",
      " [ 0.6  -0.41  0.32 -0.61]\n",
      " [-0.34 -0.63  0.58  0.39]]\n"
     ]
    }
   ],
   "source": [
    "# Calc SVD of matrix post_words\n",
    "import numpy as np\n",
    "\n",
    "U, sigma, V = np.linalg.svd(post_words)\n",
    "print(\"V = \")\n",
    "print(np.round(V, decimals=2))"
   ]
  },
  {
   "cell_type": "code",
   "execution_count": 5,
   "metadata": {
    "collapsed": false
   },
   "outputs": [
    {
     "data": {
      "text/html": [
       "<div>\n",
       "<table border=\"1\" class=\"dataframe\">\n",
       "  <thead>\n",
       "    <tr style=\"text-align: right;\">\n",
       "      <th></th>\n",
       "      <th>post1</th>\n",
       "      <th>post2</th>\n",
       "      <th>post3</th>\n",
       "      <th>post4</th>\n",
       "    </tr>\n",
       "  </thead>\n",
       "  <tbody>\n",
       "    <tr>\n",
       "      <th>0</th>\n",
       "      <td>-0.395634</td>\n",
       "      <td>-0.570869</td>\n",
       "      <td>-0.630100</td>\n",
       "      <td>-0.347212</td>\n",
       "    </tr>\n",
       "    <tr>\n",
       "      <th>1</th>\n",
       "      <td>-0.599836</td>\n",
       "      <td>0.331743</td>\n",
       "      <td>0.408279</td>\n",
       "      <td>-0.602870</td>\n",
       "    </tr>\n",
       "    <tr>\n",
       "      <th>2</th>\n",
       "      <td>0.604001</td>\n",
       "      <td>-0.405353</td>\n",
       "      <td>0.321932</td>\n",
       "      <td>-0.605996</td>\n",
       "    </tr>\n",
       "    <tr>\n",
       "      <th>3</th>\n",
       "      <td>-0.344752</td>\n",
       "      <td>-0.632253</td>\n",
       "      <td>0.576751</td>\n",
       "      <td>0.385695</td>\n",
       "    </tr>\n",
       "  </tbody>\n",
       "</table>\n",
       "</div>"
      ],
      "text/plain": [
       "      post1     post2     post3     post4\n",
       "0 -0.395634 -0.570869 -0.630100 -0.347212\n",
       "1 -0.599836  0.331743  0.408279 -0.602870\n",
       "2  0.604001 -0.405353  0.321932 -0.605996\n",
       "3 -0.344752 -0.632253  0.576751  0.385695"
      ]
     },
     "execution_count": 5,
     "metadata": {},
     "output_type": "execute_result"
    }
   ],
   "source": [
    "V_df = pd.DataFrame(V, columns=c_names)\n",
    "V_df"
   ]
  },
  {
   "cell_type": "code",
   "execution_count": 6,
   "metadata": {
    "collapsed": false
   },
   "outputs": [
    {
     "data": {
      "text/plain": [
       "array([ 13.3221948 ,   9.2609512 ,   2.41918664,   1.37892883])"
      ]
     },
     "execution_count": 6,
     "metadata": {},
     "output_type": "execute_result"
    }
   ],
   "source": [
    "# Note how post1 and post4 agree closely in value in the first two rows of V , as do post2 and post3. \n",
    "# This indicates that posts 1 and 4 contain similar words\n",
    "# What are the sigmas?\n",
    "sigma"
   ]
  },
  {
   "cell_type": "code",
   "execution_count": 7,
   "metadata": {
    "collapsed": false
   },
   "outputs": [
    {
     "name": "stdout",
     "output_type": "stream",
     "text": [
      "A calculated using only the first two components:\n",
      "\n",
      "          post1     post2     post3     post4\n",
      "ice    3.197084  4.818556  5.325736  2.792675\n",
      "snow   5.619793  0.588201  0.384675  5.412204\n",
      "tahoe  4.043943  0.071665 -0.123639  3.917015\n",
      "goal   0.682117  5.089628  5.762122  0.336491\n",
      "puck   0.129398  4.219523  4.799185 -0.143946\n",
      "\n",
      "Error from actual value:\n",
      "\n",
      "          post1     post2     post3     post4\n",
      "word:                                        \n",
      "ice    0.802916 -0.818556  0.674264 -0.792675\n",
      "snow   0.380207  0.411799 -0.384675 -0.412204\n",
      "tahoe -1.043943 -0.071665  0.123639  1.082985\n",
      "goal  -0.682117  0.910372 -0.762122  0.663509\n",
      "puck  -0.129398 -0.219523  0.200815  0.143946\n"
     ]
    }
   ],
   "source": [
    "# σ1 and σ2 are about an order of magnitude greater than σ3 and σ4\n",
    "# indicating that the values in the first two rows of V are much more important than the values in the last two\n",
    "# One could approx Ausing just the first two rows of V and first two columns of U\n",
    "\n",
    "A_approx = np.matrix(U[:, :2]) * np.diag(sigma[:2]) * np.matrix(V[:2, :])\n",
    "\n",
    "print(\"A calculated using only the first two components:\\n\")\n",
    "print(pd.DataFrame(A_approx, index=words, columns=c_names)) \n",
    "print(\"\\nError from actual value:\\n\") \n",
    "print(post_words - A_approx) "
   ]
  },
  {
   "cell_type": "code",
   "execution_count": 9,
   "metadata": {
    "collapsed": false
   },
   "outputs": [
    {
     "data": {
      "image/png": "[encoded data removed]",
      "text/plain": [
       "<matplotlib.figure.Figure at 0x6209828>"
      ]
     },
     "metadata": {},
     "output_type": "display_data"
    }
   ],
   "source": [
    "# Lets visualize it\n",
    "%matplotlib inline\n",
    "import matplotlib.pyplot as plt\n",
    "\n",
    "plt.imshow(V, interpolation='none')\n",
    "plt.xticks(range(len(c_names)))\n",
    "plt.yticks(range(len(words)))\n",
    "plt.ylim([len(words) - 1.5, -.5])\n",
    "ax = plt.gca()\n",
    "ax.set_xticklabels(c_names)\n",
    "ax.set_yticklabels(range(1, len(words) + 1))\n",
    "plt.title(\"$V$\")\n",
    "plt.colorbar();"
   ]
  },
  {
   "cell_type": "code",
   "execution_count": null,
   "metadata": {
    "collapsed": true
   },
   "outputs": [],
   "source": []
  }
 ],
 "metadata": {
  "kernelspec": {
   "display_name": "Python 2",
   "language": "python",
   "name": "python2"
  },
  "language_info": {
   "codemirror_mode": {
    "name": "ipython",
    "version": 2
   },
   "file_extension": ".py",
   "mimetype": "text/x-python",
   "name": "python",
   "nbconvert_exporter": "python",
   "pygments_lexer": "ipython2",
   "version": "2.7.11"
  }
 },
 "nbformat": 4,
 "nbformat_minor": 0
}
