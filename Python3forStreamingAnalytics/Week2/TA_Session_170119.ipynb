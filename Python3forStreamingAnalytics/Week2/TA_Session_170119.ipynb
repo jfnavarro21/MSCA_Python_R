{
 "cells": [
  {
   "cell_type": "code",
   "execution_count": null,
   "metadata": {
    "collapsed": true
   },
   "outputs": [],
   "source": [
    "join() # makes the 3 processes into a \"relay\" so they dont go at the same time\n",
    "#share memory but in the same process\n",
    "#for loop w parallel function, it stays in the parent, and works \n",
    "\n",
    "#2  process are in differnt places cant talk together, ipc, interprocess communication, \n",
    "# communicate through data structure\n",
    "#threading allows you to share data, problem is running at the same time without(join)\n",
    "#you could miss data (locking, unlocking)\n",
    "#multithreaded, share data, live in same process\n"
   ]
  }
 ],
 "metadata": {
  "anaconda-cloud": {},
  "kernelspec": {
   "display_name": "Python [conda root]",
   "language": "python",
   "name": "conda-root-py"
  },
  "language_info": {
   "codemirror_mode": {
    "name": "ipython",
    "version": 3
   },
   "file_extension": ".py",
   "mimetype": "text/x-python",
   "name": "python",
   "nbconvert_exporter": "python",
   "pygments_lexer": "ipython3",
   "version": "3.5.2"
  }
 },
 "nbformat": 4,
 "nbformat_minor": 2
}
