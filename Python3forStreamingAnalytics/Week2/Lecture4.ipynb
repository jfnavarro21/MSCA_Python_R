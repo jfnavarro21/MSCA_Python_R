{
 "cells": [
  {
   "cell_type": "code",
   "execution_count": null,
   "metadata": {
    "collapsed": true
   },
   "outputs": [],
   "source": [
    "#Assignment 3. How to know when there is no correleation , when\n",
    "#task 3, report min and maximum values from list\n",
    "\n",
    "#5 confidence  interval, no rsqd, UB and LB, conf interval of the rsqured\n",
    "#static conf interval of R2 alpha, R2 blue and R2 green\n",
    "\n",
    "def f1():\n",
    "    for i in range(1,100):\n",
    "        sys.sleep(i)#could be lin reg for red\n",
    "        print(i)\n",
    "def f2():\n",
    "    for i in range(1,100):\n",
    "        sys.sleep(i)#oculd be lin reg for green\n",
    "        print(i)\n",
    "        \n",
    "def f3():\n",
    "    pass\n",
    "\n",
    "import threading\n",
    "threading.Thread(target = f1, args=())\n",
    "threading.Thread(target = f2...)\n",
    "threading.Thread(target = f3....)\n",
    "\n",
    "threads.join() # will pause \n",
    "\n",
    "#Deriving from the thread class\n",
    "\n",
    "class A(threading.Thread):\n",
    "    def __init__(self, count):\n",
    "                super__init__(self)\n",
    "    def run(self):\n",
    "        \n",
    "        \n",
    "t1.start() # points to run function is equivalent to threading.Thread(target =f1)\n",
    "\n",
    "#a.run() will not spawn a thread, just run the run function that is not parallelized\n",
    "\n",
    "# if you want to run many functions, can def multiple junctions under the class A\n",
    "#def f1, def f2, def f3. you can make an argument in the constructor(init__(function#)\n",
    ")\n",
    "#in run, have if self.number ==1 ->f1\n",
    "\n",
    "#a1 =A(1)\n",
    "a1.start()\n",
    "#repeaat for a2 and a3"
   ]
  }
 ],
 "metadata": {
  "kernelspec": {
   "display_name": "Python [conda root]",
   "language": "python",
   "name": "conda-root-py"
  },
  "language_info": {
   "codemirror_mode": {
    "name": "ipython",
    "version": 3
   },
   "file_extension": ".py",
   "mimetype": "text/x-python",
   "name": "python",
   "nbconvert_exporter": "python",
   "pygments_lexer": "ipython3",
   "version": "3.5.2"
  }
 },
 "nbformat": 4,
 "nbformat_minor": 2
}
