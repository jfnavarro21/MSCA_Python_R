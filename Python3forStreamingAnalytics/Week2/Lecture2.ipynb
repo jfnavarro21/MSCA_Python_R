{
 "cells": [
  {
   "cell_type": "code",
   "execution_count": 1,
   "metadata": {
    "collapsed": false
   },
   "outputs": [
    {
     "ename": "SyntaxError",
     "evalue": "invalid syntax (<ipython-input-1-ed5d97704d58>, line 2)",
     "traceback": [
      "\u001b[0;36m  File \u001b[0;32m\"<ipython-input-1-ed5d97704d58>\"\u001b[0;36m, line \u001b[0;32m2\u001b[0m\n\u001b[0;31m    sys.argv:[\"mygreppy\" \"ab\" 'file1']\u001b[0m\n\u001b[0m            ^\u001b[0m\n\u001b[0;31mSyntaxError\u001b[0m\u001b[0;31m:\u001b[0m invalid syntax\n"
     ],
     "output_type": "error"
    }
   ],
   "source": [
    "#$python  mygrep.py \"ab\" \"file1\"\n",
    "sys.argv:[\"mygrep.py\" \"ab\" 'file1']\n",
    "\n",
    "\n",
    "import sys\n",
    "import re\n",
    "count = 0\n",
    "file1 = open(sys.argv[2], r ) # goal is to find the regular expression in my file, use a loop\n",
    "for line in file:\n",
    "    count +=1\n",
    "    #print(line) # will print each line of the whole file\n",
    "    a =re.match(sys.argv[1], line)  #sys :system library   argv: all the arguments given to my code\n",
    "        if a is not None:\n",
    "            print(str(count)+': ' + line\n",
    "            file1.close()"
   ]
  },
  {
   "cell_type": "code",
   "execution_count": 10,
   "metadata": {
    "collapsed": false
   },
   "outputs": [
    {
     "name": "stdout",
     "output_type": "stream",
     "text": [
      "100\n"
     ]
    }
   ],
   "source": [
    "###Threading -Concurrency issue\n",
    "                  \n",
    "#how to reduce time of calculation\n",
    "#for i in range(0,N):\n",
    " #   for j in range(0,n):\n",
    "  #      for k in range(0,N)\n",
    "   #         c[i][j]+=a[i][k] + b[k][j]  time=8 cycles x N^3\n",
    "    \n",
    "#yes, 2 processes can communicate. 5, 10 \n",
    "\n",
    "#use a lock, variable cant be accessed while one process is using it\n",
    "#acquire and release the lock\n",
    "balance = 100\n",
    "def credit():\n",
    "    global balance # use the global variable balanace\n",
    "    balance +=1\n",
    "def debit():\n",
    "    global balance\n",
    "    balance -=1\n",
    "    \n",
    "credit() # thread 1\n",
    "debit() # thread 2\n",
    "\n",
    "\n",
    "\n",
    "print(balance)"
   ]
  },
  {
   "cell_type": "code",
   "execution_count": 4,
   "metadata": {
    "collapsed": true
   },
   "outputs": [],
   "source": [
    "import threading #threading library"
   ]
  },
  {
   "cell_type": "code",
   "execution_count": 15,
   "metadata": {
    "collapsed": false
   },
   "outputs": [
    {
     "name": "stdout",
     "output_type": "stream",
     "text": [
      "60100\n"
     ]
    }
   ],
   "source": [
    "class account(threading.Thread):\n",
    "    def __init__(self, delta):\n",
    "        super().__init__()\n",
    "        self.delta = delta\n",
    "    \n",
    "    def run(self):\n",
    "        global balance\n",
    "        for i in range(0,10):\n",
    "            balance+=self.delta\n",
    "\n",
    "            \n",
    "t1 = account(1)\n",
    "t1.start() # start will create a thread, automatically calls run(), which calls credit()\n",
    "t2 = account(-1)\n",
    "t2.start() # calls run, and credit\n",
    "\n",
    "print(balance)"
   ]
  },
  {
   "cell_type": "code",
   "execution_count": null,
   "metadata": {
    "collapsed": true
   },
   "outputs": [],
   "source": [
    "#Assignment 3\n",
    "#for loop\n",
    "#lin regression\n",
    "#call Rsquared\n",
    "#store in array\n",
    "\n",
    "#3 loops, one for each color\n",
    "#task 4 needs to call 3 diff functions"
   ]
  },
  {
   "cell_type": "code",
   "execution_count": null,
   "metadata": {
    "collapsed": true
   },
   "outputs": [],
   "source": [
    ""
   ]
  }
 ],
 "metadata": {
  "anaconda-cloud": {},
  "kernelspec": {
   "display_name": "Python [conda root]",
   "language": "python",
   "name": "conda-root-py"
  },
  "language_info": {
   "codemirror_mode": {
    "name": "ipython",
    "version": 3.0
   },
   "file_extension": ".py",
   "mimetype": "text/x-python",
   "name": "python",
   "nbconvert_exporter": "python",
   "pygments_lexer": "ipython3",
   "version": "3.5.2"
  }
 },
 "nbformat": 4,
 "nbformat_minor": 0
}