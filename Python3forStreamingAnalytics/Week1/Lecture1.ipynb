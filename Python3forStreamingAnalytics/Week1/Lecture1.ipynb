{
 "cells": [
  {
   "cell_type": "code",
   "execution_count": 3,
   "metadata": {
    "collapsed": false
   },
   "outputs": [
    {
     "name": "stdout",
     "output_type": "stream",
     "text": [
      "3\n",
      "[2]\n"
     ]
    }
   ],
   "source": [
    "# TA Maria Saenz mdcsaenz@uchicago.edu  Thursday 6p-8p\n",
    "# important to optimize latency location\n",
    "# in python you can do natively more than in R\n",
    "# Python is widely used, high level, general purpose, interpreted, dynamic prog language\n",
    "# interpreted v compiled. result of compilation is binary, interpreted is using the loader directly, will not have any compiled code\n",
    "# large sets of libraries\n",
    "# Basic data types: intergers Float strings (immutable)\n",
    "# assignment of 2 to the copy of a. immutable ,\n",
    "def foo(a):\n",
    "    a = 2      # this is changing the copy, not the reference (immutable object)\n",
    "    \n",
    "a = 3\n",
    "foo(a)\n",
    "print (a) #gives 3\n",
    "\n",
    "#if you add return a, it gives 2 not 3\n",
    "\n",
    "#list and arrays are mutable\n",
    "\n",
    "def foo(a):\n",
    "    a.append(2)\n",
    "\n",
    "a = []   # start with an empty list\n",
    "foo(a)\n",
    "print(a)  # returns 2, not an empty list, since it is mutable\n",
    "\n",
    "\n",
    "#x,y = 1,2\n",
    "#print(x) >>1\n",
    "\n",
    "\n",
    "\n",
    "\n",
    "\n"
   ]
  },
  {
   "cell_type": "code",
   "execution_count": 5,
   "metadata": {
    "collapsed": false
   },
   "outputs": [
    {
     "name": "stdout",
     "output_type": "stream",
     "text": [
      "1\n",
      "2\n",
      "3\n",
      "4\n",
      "5\n",
      "6\n",
      "1\n",
      "2\n",
      "3\n",
      "4\n",
      "5\n",
      "6\n",
      "7\n",
      "8\n",
      "9\n"
     ]
    }
   ],
   "source": [
    "#reserved words.... break and continue in loops\n",
    "\n",
    "for i in range(1,10):\n",
    "    print (i)\n",
    "    if i>5:\n",
    "        break\n",
    "#optput prints 1 thourh 5\n",
    "\n",
    "for i in range(1,10):\n",
    "    print(i) \n",
    "    if i>5:\n",
    "        continue\n",
    "#prints 1 thourhg 10\n",
    "\n",
    "#assert\n",
    "#test if true or false, it will stop code if false\n",
    "\n",
    "#del - removing something from a list\n",
    "#except - exception error\n",
    "#exec-  execute a process\n",
    "#finally - error handling\n",
    "#global - variable definition\n",
    "#back to foo function, if you add global a, it overrides \n",
    "#pass - empty code\n",
    "#raise - exception\n",
    "#try -exception\n"
   ]
  },
  {
   "cell_type": "code",
   "execution_count": 6,
   "metadata": {
    "collapsed": false
   },
   "outputs": [
    {
     "ename": "TypeError",
     "evalue": "object of type 'type' has no len()",
     "output_type": "error",
     "traceback": [
      "\u001b[0;31m---------------------------------------------------------------------------\u001b[0m",
      "\u001b[0;31mTypeError\u001b[0m                                 Traceback (most recent call last)",
      "\u001b[0;32m<ipython-input-6-996eab1b5603>\u001b[0m in \u001b[0;36m<module>\u001b[0;34m()\u001b[0m\n\u001b[1;32m      1\u001b[0m \u001b[1;31m#tuple is immutable, list is mutable. in dictionariy key, can use tuple, not list\u001b[0m\u001b[1;33m\u001b[0m\u001b[1;33m\u001b[0m\u001b[0m\n\u001b[0;32m----> 2\u001b[0;31m \u001b[0mlen\u001b[0m\u001b[1;33m(\u001b[0m\u001b[0mlist\u001b[0m\u001b[1;33m)\u001b[0m\u001b[1;33m\u001b[0m\u001b[0m\n\u001b[0m\u001b[1;32m      3\u001b[0m \u001b[0mrange\u001b[0m\u001b[1;33m(\u001b[0m\u001b[1;33m...\u001b[0m\u001b[1;33m)\u001b[0m\u001b[1;33m\u001b[0m\u001b[0m\n\u001b[1;32m      4\u001b[0m \u001b[1;33m\u001b[0m\u001b[0m\n\u001b[1;32m      5\u001b[0m \u001b[1;31m#slice a list with colon\u001b[0m\u001b[1;33m\u001b[0m\u001b[1;33m\u001b[0m\u001b[0m\n",
      "\u001b[0;31mTypeError\u001b[0m: object of type 'type' has no len()"
     ]
    }
   ],
   "source": [
    "#tuple is immutable, list is mutable. in dictionariy key, can use tuple, not list\n",
    "len(list)\n",
    "range(...)\n",
    "\n",
    "#slice a list with colon\n",
    "#type(t) why is it important to know the type? if we assign float to integer, lose floating side\n",
    "#append.\n",
    "#create a list from a string     line.split()\n",
    "#list and tuple\n",
    "\n",
    "#dictionary are like lists except that they use keys instead of numbers to look up values\n",
    "#complexity: linear, if N   O(N) max complexity\n",
    "#find an element in a binary tree. O(log(N)) complexity: speed of the algorithm for a given problem\n",
    "#what is complexity on hashtable: constant O(1), first thing is a hash function, transform a string into a number, which is in \n",
    "#the array, then store value . If collision in hash, same hash value is produced from the same inputs, link list, will increase complexity\n",
    "\n",
    "#Dictionary functions\n",
    "#for k,v in car.items():\n",
    "#    print(k,v)\n",
    "#tyre 2\n",
    "#wheel 1\n",
    "#antenna 1\n",
    "\n",
    "#key for (key,value) in car.items() if value ==1\n",
    "#['wheel', 'antenna']\n",
    "\n",
    "\n"
   ]
  },
  {
   "cell_type": "code",
   "execution_count": 7,
   "metadata": {
    "collapsed": true
   },
   "outputs": [],
   "source": [
    "#Object Oriented Programming\n",
    "#why is it important to use OOP, encapsulating, could reuse\n",
    "#link to a base class, allows you to share the code, common code, only need to change in one spot. \n",
    "# polymorphism. virtual function, will call function in the object over the base class. \n",
    "#abstract function, make sure that any derived class is implemented #push programmer to have code for each strategy type(object)\n",
    "# see Lecture1.py in pycharm\n",
    "#"
   ]
  },
  {
   "cell_type": "code",
   "execution_count": 12,
   "metadata": {
    "collapsed": false
   },
   "outputs": [
    {
     "name": "stdout",
     "output_type": "stream",
     "text": [
      "bad!\n"
     ]
    },
    {
     "ename": "SystemExit",
     "evalue": "1",
     "output_type": "error",
     "traceback": [
      "An exception has occurred, use %tb to see the full traceback.\n",
      "\u001b[0;31mSystemExit\u001b[0m\u001b[0;31m:\u001b[0m 1\n"
     ]
    },
    {
     "name": "stderr",
     "output_type": "stream",
     "text": [
      "C:\\Users\\JohntheGreat\\Miniconda3\\lib\\site-packages\\IPython\\core\\interactiveshell.py:2889: UserWarning: To exit: use 'exit', 'quit', or Ctrl-D.\n",
      "  warn(\"To exit: use 'exit', 'quit', or Ctrl-D.\", stacklevel=1)\n"
     ]
    }
   ],
   "source": [
    "#Exceptions\n",
    "import sys\n",
    "#if an exception arises, need to be able to undo exception\n",
    "try:\n",
    "    print(1/0)\n",
    "except:\n",
    "    print(\"bad!\")\n",
    "sys.exit(1)    \n",
    "#print(1/0)    "
   ]
  },
  {
   "cell_type": "code",
   "execution_count": null,
   "metadata": {
    "collapsed": true
   },
   "outputs": [],
   "source": [
    "#Assignment, #3 CV\n",
    "#get source code\n",
    "#2 ./confuger, gives a makefile\n",
    "#3 make.... at the end gives a directory with the library, one of the files \n",
    "#will be CV2, then change the environment variable forto read library location\n",
    "#make install if you want to put with all other python libraries\n",
    "#sudo\n",
    "\n"
   ]
  }
 ],
 "metadata": {
  "anaconda-cloud": {},
  "kernelspec": {
   "display_name": "Python [conda root]",
   "language": "python",
   "name": "conda-root-py"
  },
  "language_info": {
   "codemirror_mode": {
    "name": "ipython",
    "version": 3
   },
   "file_extension": ".py",
   "mimetype": "text/x-python",
   "name": "python",
   "nbconvert_exporter": "python",
   "pygments_lexer": "ipython3",
   "version": "3.5.2"
  }
 },
 "nbformat": 4,
 "nbformat_minor": 2
}
