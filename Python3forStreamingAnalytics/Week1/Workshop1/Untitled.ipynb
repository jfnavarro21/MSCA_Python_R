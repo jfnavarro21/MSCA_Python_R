{
 "cells": [
  {
   "cell_type": "code",
   "execution_count": 5,
   "metadata": {
    "collapsed": false
   },
   "outputs": [
    {
     "ename": "ImportError",
     "evalue": "No module named 'statsmodels'",
     "output_type": "error",
     "traceback": [
      "\u001b[0;31m---------------------------------------------------------------------------\u001b[0m",
      "\u001b[0;31mImportError\u001b[0m                               Traceback (most recent call last)",
      "\u001b[0;32m<ipython-input-5-366e50771d9f>\u001b[0m in \u001b[0;36m<module>\u001b[0;34m()\u001b[0m\n\u001b[1;32m      8\u001b[0m \u001b[1;32mimport\u001b[0m \u001b[0mpylab\u001b[0m\u001b[1;33m\u001b[0m\u001b[0m\n\u001b[1;32m      9\u001b[0m \u001b[1;31m#Simple Linear Regression\u001b[0m\u001b[1;33m\u001b[0m\u001b[1;33m\u001b[0m\u001b[0m\n\u001b[0;32m---> 10\u001b[0;31m \u001b[1;32mimport\u001b[0m \u001b[0mstatsmodels\u001b[0m\u001b[1;33m.\u001b[0m\u001b[0mformula\u001b[0m\u001b[1;33m.\u001b[0m\u001b[0mapi\u001b[0m \u001b[1;32mas\u001b[0m \u001b[0msmf\u001b[0m\u001b[1;33m\u001b[0m\u001b[0m\n\u001b[0m\u001b[1;32m     11\u001b[0m \u001b[1;32mfrom\u001b[0m \u001b[0mpandas_datareader\u001b[0m \u001b[1;32mimport\u001b[0m \u001b[0mdata\u001b[0m\u001b[1;33m\u001b[0m\u001b[0m\n\u001b[1;32m     12\u001b[0m \u001b[1;33m\u001b[0m\u001b[0m\n",
      "\u001b[0;31mImportError\u001b[0m: No module named 'statsmodels'"
     ]
    }
   ],
   "source": [
    "# Task 1\n",
    "# print('That works')\n",
    "# Task 2\n",
    "# Part 1\n",
    "import pandas as pd\n",
    "import numpy as np\n",
    "import matplotlib.pyplot as plt\n",
    "import pylab\n",
    "#Simple Linear Regression\n",
    "import statsmodels.formula.api as smf\n",
    "from pandas_datareader import data\n",
    "\n",
    "# Part 2\n",
    "\n",
    "all_data = {}\n",
    "\n",
    "for ticker in ['AAL', 'ALK', 'WTI']:\n",
    "    all_data[ticker] = data.DataReader(ticker, 'yahoo', '2014-06-01', '2016-06-13')\n",
    "\n",
    "print(all_data['WTI'].head())\n",
    "print(all_data['AAL'].head())\n",
    "print(all_data['ALK'].head())\n",
    "\n",
    "# Part 3: Using dataframe\n",
    "\n",
    "# Store the adjusted close prices into a DataFrame\n",
    "\n",
    "price = pd.DataFrame({tic: data['Adj Close'] for tic, data in all_data.items()})\n",
    "\n",
    "print(price.head(5))\n",
    "\n",
    "# Part 4: Calculate Return\n",
    "\n",
    "daily_return = price.pct_change(1)\n",
    "print(daily_return.head(5))\n",
    "\n",
    "# Part 5: Scatter plot\n",
    "\n",
    "plt.scatter(daily_return['AAL'], daily_return['WTI'])\n",
    "plt.show()\n",
    "# Part 6: Scatter plot\n",
    "\n",
    "plt.scatter(daily_return['ALK'], daily_return['WTI'])\n",
    "plt.show()\n",
    "# Part 7: Using linear regression\n",
    "\n",
    "# A Calculate the Intercept and coefficient for the linear regression\n",
    "# between AAL and WTI\n",
    "\n",
    "\n",
    "result = smf.ols(formula=\"WTI ~ AAL\", data=price).fit()\n",
    "print (result.params)\n",
    "\n",
    "# A Calculate the Intercept and coefficient for the linear regression\n",
    "# between ALK and WTI\n",
    "\n",
    "result = smf.ols(formula=\"WTI ~ ALK\", data=price).fit()\n",
    "print (result.params)\n",
    "\n"
   ]
  },
  {
   "cell_type": "code",
   "execution_count": null,
   "metadata": {
    "collapsed": true
   },
   "outputs": [],
   "source": []
  }
 ],
 "metadata": {
  "anaconda-cloud": {},
  "kernelspec": {
   "display_name": "Python [conda root]",
   "language": "python",
   "name": "conda-root-py"
  },
  "language_info": {
   "codemirror_mode": {
    "name": "ipython",
    "version": 3
   },
   "file_extension": ".py",
   "mimetype": "text/x-python",
   "name": "python",
   "nbconvert_exporter": "python",
   "pygments_lexer": "ipython3",
   "version": "3.5.2"
  }
 },
 "nbformat": 4,
 "nbformat_minor": 2
}
