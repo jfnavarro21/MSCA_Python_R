{
 "cells": [
  {
   "cell_type": "code",
   "execution_count": 1,
   "metadata": {
    "collapsed": true
   },
   "outputs": [],
   "source": [
    "import os\n",
    "import shutil\n",
    "import sh\n",
    "import pandas as pd\n",
    "import numpy as np\n",
    "import matplotlib.pyplot as plt"
   ]
  },
  {
   "cell_type": "code",
   "execution_count": 2,
   "metadata": {
    "collapsed": true
   },
   "outputs": [],
   "source": [
    "# Import csv data\n",
    "path = \"file:///home/kadochnikov/data/air_travel/\"\n",
    "filename = \"200*.csv\"\n",
    "csv_file = path+filename"
   ]
  },
  {
   "cell_type": "code",
   "execution_count": 3,
   "metadata": {
    "collapsed": true
   },
   "outputs": [],
   "source": [
    "# Store the csv data as a dataframe in spark\n",
    "travel_df= sqlContext.read.format('com.databricks.spark.csv').\\\n",
    "options(header='true', inferschema='true', delimiter=',', quote='\"').\\\n",
    "load(csv_file).cache()"
   ]
  },
  {
   "cell_type": "code",
   "execution_count": 4,
   "metadata": {
    "collapsed": false
   },
   "outputs": [
    {
     "data": {
      "text/plain": [
       "Row(Year=2007, Month=1, DayofMonth=1, DayOfWeek=1, DepTime=u'1232', CRSDepTime=1225, ArrTime=u'1341', CRSArrTime=1340, UniqueCarrier=u'WN', FlightNum=2891, TailNum=u'N351', ActualElapsedTime=u'69', CRSElapsedTime=u'75', AirTime=u'54', ArrDelay=u'1', DepDelay=u'7', Origin=u'SMF', Dest=u'ONT', Distance=389, TaxiIn=u'4', TaxiOut=u'11', Cancelled=0, CancellationCode=None, Diverted=0, CarrierDelay=u'0', WeatherDelay=u'0', NASDelay=u'0', SecurityDelay=u'0', LateAircraftDelay=u'0')"
      ]
     },
     "execution_count": 4,
     "metadata": {},
     "output_type": "execute_result"
    }
   ],
   "source": [
    "# Print out the column names\n",
    "travel_df.first()"
   ]
  },
  {
   "cell_type": "code",
   "execution_count": 25,
   "metadata": {
    "collapsed": true
   },
   "outputs": [],
   "source": [
    "travel_df.createOrReplaceTempView(\"travel\")"
   ]
  },
  {
   "cell_type": "code",
   "execution_count": 26,
   "metadata": {
    "collapsed": true
   },
   "outputs": [],
   "source": [
    "# Calculate the percentage of delayed flights (arrival) per Origin/Destination pair\n",
    "arrivals_delays_pct = sqlContext.sql(\"\\\n",
    "    select a.Origin, a.Dest, a.Num_Total_flights, b.Num_Delayed_Flights, \\\n",
    "    round(b.Num_Delayed_Flights/a.Num_Total_Flights*100,1) as Delayed_Pct \\\n",
    "    from \\\n",
    "    (select Origin, Dest, count(*) as Num_Total_Flights \\\n",
    "    from travel \\\n",
    "    group by Origin, Dest \\\n",
    "    order by Num_Total_Flights desc) a \\\n",
    "    JOIN \\\n",
    "    (select Origin, Dest, count(*) as Num_Delayed_Flights \\\n",
    "    from (select * from travel where ArrDelay>0) \\\n",
    "    group by Origin, Dest \\\n",
    "    order by Num_Delayed_Flights desc) b \\\n",
    "    ON a.Origin = b.Origin and a.Dest = b.Dest\")"
   ]
  },
  {
   "cell_type": "code",
   "execution_count": 36,
   "metadata": {
    "collapsed": true
   },
   "outputs": [],
   "source": [
    "# Order them by the delayed percentage (highest first)\n",
    "arrivals_delays_pct_worst = arrivals_delays_pct.orderBy(\"Delayed_Pct\", \\\n",
    "ascending=False)"
   ]
  },
  {
   "cell_type": "code",
   "execution_count": 49,
   "metadata": {
    "collapsed": false
   },
   "outputs": [
    {
     "name": "stdout",
     "output_type": "stream",
     "text": [
      "+------+----+-----------------+-------------------+-----------+\n",
      "|Origin|Dest|Num_Total_flights|Num_Delayed_Flights|Delayed_Pct|\n",
      "+------+----+-----------------+-------------------+-----------+\n",
      "|   DSM| OMA|                1|                  1|      100.0|\n",
      "|   RIC| RDU|                2|                  2|      100.0|\n",
      "|   GSP| CLT|                1|                  1|      100.0|\n",
      "|   ABE| JFK|                6|                  6|      100.0|\n",
      "|   OMA| DSM|                1|                  1|      100.0|\n",
      "+------+----+-----------------+-------------------+-----------+\n",
      "only showing top 5 rows\n",
      "\n"
     ]
    }
   ],
   "source": [
    "# Display the results\n",
    "arrivals_delays_pct_worst.show(5)"
   ]
  },
  {
   "cell_type": "code",
   "execution_count": 37,
   "metadata": {
    "collapsed": true
   },
   "outputs": [],
   "source": [
    "# Convert to a pandas dataframe\n",
    "Arr_Delay_Pct_W = arrivals_delays_pct_worst.toPandas()"
   ]
  },
  {
   "cell_type": "code",
   "execution_count": 57,
   "metadata": {
    "collapsed": false
   },
   "outputs": [],
   "source": [
    "# Create a new column that contains both the names of the Origin and Destination\n",
    "Arr_Delay_Pct_W['Pair'] = Arr_Delay_Pct_W[\"Origin\"].map(str) + \\\n",
    "Arr_Delay_Pct_W[\"Dest\"]"
   ]
  },
  {
   "cell_type": "code",
   "execution_count": 72,
   "metadata": {
    "collapsed": false
   },
   "outputs": [
    {
     "data": {
      "text/html": [
       "<div>\n",
       "<style>\n",
       "    .dataframe thead tr:only-child th {\n",
       "        text-align: right;\n",
       "    }\n",
       "\n",
       "    .dataframe thead th {\n",
       "        text-align: left;\n",
       "    }\n",
       "\n",
       "    .dataframe tbody tr th {\n",
       "        vertical-align: top;\n",
       "    }\n",
       "</style>\n",
       "<table border=\"1\" class=\"dataframe\">\n",
       "  <thead>\n",
       "    <tr style=\"text-align: right;\">\n",
       "      <th></th>\n",
       "      <th>Origin</th>\n",
       "      <th>Dest</th>\n",
       "      <th>Num_Total_flights</th>\n",
       "      <th>Num_Delayed_Flights</th>\n",
       "      <th>Delayed_Pct</th>\n",
       "      <th>Pair</th>\n",
       "    </tr>\n",
       "  </thead>\n",
       "  <tbody>\n",
       "    <tr>\n",
       "      <th>87</th>\n",
       "      <td>LGA</td>\n",
       "      <td>MLB</td>\n",
       "      <td>12</td>\n",
       "      <td>12</td>\n",
       "      <td>100.0</td>\n",
       "      <td>LGAMLB</td>\n",
       "    </tr>\n",
       "    <tr>\n",
       "      <th>192</th>\n",
       "      <td>SLC</td>\n",
       "      <td>GUC</td>\n",
       "      <td>14</td>\n",
       "      <td>13</td>\n",
       "      <td>92.9</td>\n",
       "      <td>SLCGUC</td>\n",
       "    </tr>\n",
       "    <tr>\n",
       "      <th>193</th>\n",
       "      <td>MKG</td>\n",
       "      <td>GRR</td>\n",
       "      <td>24</td>\n",
       "      <td>22</td>\n",
       "      <td>91.7</td>\n",
       "      <td>MKGGRR</td>\n",
       "    </tr>\n",
       "    <tr>\n",
       "      <th>194</th>\n",
       "      <td>ABE</td>\n",
       "      <td>LGA</td>\n",
       "      <td>12</td>\n",
       "      <td>11</td>\n",
       "      <td>91.7</td>\n",
       "      <td>ABELGA</td>\n",
       "    </tr>\n",
       "    <tr>\n",
       "      <th>196</th>\n",
       "      <td>DTW</td>\n",
       "      <td>STT</td>\n",
       "      <td>33</td>\n",
       "      <td>29</td>\n",
       "      <td>87.9</td>\n",
       "      <td>DTWSTT</td>\n",
       "    </tr>\n",
       "  </tbody>\n",
       "</table>\n",
       "</div>"
      ],
      "text/plain": [
       "    Origin Dest  Num_Total_flights  Num_Delayed_Flights  Delayed_Pct    Pair\n",
       "87     LGA  MLB                 12                   12        100.0  LGAMLB\n",
       "192    SLC  GUC                 14                   13         92.9  SLCGUC\n",
       "193    MKG  GRR                 24                   22         91.7  MKGGRR\n",
       "194    ABE  LGA                 12                   11         91.7  ABELGA\n",
       "196    DTW  STT                 33                   29         87.9  DTWSTT"
      ]
     },
     "execution_count": 72,
     "metadata": {},
     "output_type": "execute_result"
    }
   ],
   "source": [
    "# Filter out the airport pairs with less than 10 total flights\n",
    "ArrDelayPerWorstFiltered =Arr_Delay_Pct_W[Arr_Delay_Pct_W['Num_Total_flights']>10]\n",
    "# Display results\n",
    "ArrDelayPerWorstFiltered.head(5)"
   ]
  },
  {
   "cell_type": "code",
   "execution_count": 58,
   "metadata": {
    "collapsed": false
   },
   "outputs": [
    {
     "data": {
      "image/png": "[encoded data removed]",
      "text/plain": [
       "<matplotlib.figure.Figure at 0x5d0b110>"
      ]
     },
     "metadata": {},
     "output_type": "display_data"
    }
   ],
   "source": [
    "# Plot the first 20 pairs\n",
    "ArrDelayPerWorstFiltered[:20].plot('Pair', 'Delayed_Pct', kind='bar')\n",
    "plt.title('Worst Arrival Delays Filtered')\n",
    "plt.show()"
   ]
  },
  {
   "cell_type": "code",
   "execution_count": 59,
   "metadata": {
    "collapsed": false
   },
   "outputs": [],
   "source": [
    "# Reorder the data with the lowest percentage first\n",
    "arrivals_delays_pct_fewest = \\\n",
    "arrivals_delays_pct.orderBy(\"Delayed_Pct\", ascending=True)"
   ]
  },
  {
   "cell_type": "code",
   "execution_count": 32,
   "metadata": {
    "collapsed": true
   },
   "outputs": [],
   "source": [
    "# Convert this to a pandas dataframe\n",
    "Arr_Delay_Pct = arrivals_delays_pct_fewest.toPandas()"
   ]
  },
  {
   "cell_type": "code",
   "execution_count": 33,
   "metadata": {
    "collapsed": true
   },
   "outputs": [],
   "source": [
    "# Add column that contains the name of the Origin/Destination pair\n",
    "Arr_Delay_Pct['Pair'] = Arr_Delay_Pct[\"Origin\"].map(str) + \\\n",
    "Arr_Delay_Pct[\"Dest\"]"
   ]
  },
  {
   "cell_type": "code",
   "execution_count": 34,
   "metadata": {
    "collapsed": false
   },
   "outputs": [
    {
     "data": {
      "image/png": "[encoded data removed]",
      "text/plain": [
       "<matplotlib.figure.Figure at 0x582d990>"
      ]
     },
     "metadata": {},
     "output_type": "display_data"
    }
   ],
   "source": [
    "# Plot the first 20 pairs with the fewest arrival delays\n",
    "Arr_Delay_Pct[:20].plot('Pair', 'Delayed_Pct', kind='bar')\n",
    "plt.title('Fewest Arrival Delays')\n",
    "plt.show()"
   ]
  },
  {
   "cell_type": "code",
   "execution_count": 60,
   "metadata": {
    "collapsed": true
   },
   "outputs": [],
   "source": [
    "# Calculate the percentage of flights delayed because of Dep Delay\n",
    "Dep_delays_pct = sqlContext.sql(\"\\\n",
    "    select a.Origin, a.Dest, a.Num_Total_flights, b.Num_Delayed_Flights, \\\n",
    "    round(b.Num_Delayed_Flights/a.Num_Total_Flights*100,1) as Delayed_Pct \\\n",
    "    from \\\n",
    "    (select Origin, Dest, count(*) as Num_Total_Flights \\\n",
    "    from travel \\\n",
    "    group by Origin, Dest \\\n",
    "    order by Num_Total_Flights desc) a \\\n",
    "    JOIN \\\n",
    "    (select Origin, Dest, count(*) as Num_Delayed_Flights \\\n",
    "    from (select * from travel where DepDelay>0) \\\n",
    "    group by Origin, Dest \\\n",
    "    order by Num_Delayed_Flights desc) b \\\n",
    "    ON a.Origin = b.Origin and a.Dest = b.Dest\")"
   ]
  },
  {
   "cell_type": "code",
   "execution_count": 62,
   "metadata": {
    "collapsed": false
   },
   "outputs": [],
   "source": [
    "# Sort the data by Delayed percentage, highest first\n",
    "Dep_delays_pct_worst = Dep_delays_pct.orderBy(\"Delayed_Pct\", \\\n",
    "ascending=False)"
   ]
  },
  {
   "cell_type": "code",
   "execution_count": 63,
   "metadata": {
    "collapsed": false
   },
   "outputs": [
    {
     "name": "stdout",
     "output_type": "stream",
     "text": [
      "+------+----+-----------------+-------------------+-----------+\n",
      "|Origin|Dest|Num_Total_flights|Num_Delayed_Flights|Delayed_Pct|\n",
      "+------+----+-----------------+-------------------+-----------+\n",
      "|   AUS| SAT|                3|                  3|      100.0|\n",
      "|   CDC| SGU|                1|                  1|      100.0|\n",
      "|   IND| XNA|                1|                  1|      100.0|\n",
      "|   PIA| MSP|                1|                  1|      100.0|\n",
      "|   ICT| MCI|                1|                  1|      100.0|\n",
      "+------+----+-----------------+-------------------+-----------+\n",
      "only showing top 5 rows\n",
      "\n"
     ]
    }
   ],
   "source": [
    "# Display data\n",
    "Dep_delays_pct_worst.show(5)"
   ]
  },
  {
   "cell_type": "code",
   "execution_count": 64,
   "metadata": {
    "collapsed": true
   },
   "outputs": [],
   "source": [
    "# Change the spark table into a pandas dataframe\n",
    "Dep_Delay_Pct_W = Dep_delays_pct_worst.toPandas()"
   ]
  },
  {
   "cell_type": "code",
   "execution_count": 75,
   "metadata": {
    "collapsed": true
   },
   "outputs": [],
   "source": [
    "# Create a new column that contains both the names of the Origin and Destination\n",
    "Dep_Delay_Pct_W['Pair'] = Dep_Delay_Pct_W[\"Origin\"].map(str) + \\\n",
    "Dep_Delay_Pct_W[\"Dest\"]"
   ]
  },
  {
   "cell_type": "code",
   "execution_count": 78,
   "metadata": {
    "collapsed": false
   },
   "outputs": [
    {
     "data": {
      "text/html": [
       "<div>\n",
       "<style>\n",
       "    .dataframe thead tr:only-child th {\n",
       "        text-align: right;\n",
       "    }\n",
       "\n",
       "    .dataframe thead th {\n",
       "        text-align: left;\n",
       "    }\n",
       "\n",
       "    .dataframe tbody tr th {\n",
       "        vertical-align: top;\n",
       "    }\n",
       "</style>\n",
       "<table border=\"1\" class=\"dataframe\">\n",
       "  <thead>\n",
       "    <tr style=\"text-align: right;\">\n",
       "      <th></th>\n",
       "      <th>Origin</th>\n",
       "      <th>Dest</th>\n",
       "      <th>Num_Total_flights</th>\n",
       "      <th>Num_Delayed_Flights</th>\n",
       "      <th>Delayed_Pct</th>\n",
       "      <th>Pair</th>\n",
       "    </tr>\n",
       "  </thead>\n",
       "  <tbody>\n",
       "    <tr>\n",
       "      <th>228</th>\n",
       "      <td>GSO</td>\n",
       "      <td>RDU</td>\n",
       "      <td>11</td>\n",
       "      <td>11</td>\n",
       "      <td>100.0</td>\n",
       "      <td>GSORDU</td>\n",
       "    </tr>\n",
       "    <tr>\n",
       "      <th>351</th>\n",
       "      <td>JFK</td>\n",
       "      <td>EGE</td>\n",
       "      <td>14</td>\n",
       "      <td>13</td>\n",
       "      <td>92.9</td>\n",
       "      <td>JFKEGE</td>\n",
       "    </tr>\n",
       "    <tr>\n",
       "      <th>352</th>\n",
       "      <td>MKG</td>\n",
       "      <td>GRR</td>\n",
       "      <td>24</td>\n",
       "      <td>22</td>\n",
       "      <td>91.7</td>\n",
       "      <td>MKGGRR</td>\n",
       "    </tr>\n",
       "    <tr>\n",
       "      <th>355</th>\n",
       "      <td>EWR</td>\n",
       "      <td>BQN</td>\n",
       "      <td>731</td>\n",
       "      <td>621</td>\n",
       "      <td>85.0</td>\n",
       "      <td>EWRBQN</td>\n",
       "    </tr>\n",
       "    <tr>\n",
       "      <th>356</th>\n",
       "      <td>PHL</td>\n",
       "      <td>BTV</td>\n",
       "      <td>187</td>\n",
       "      <td>159</td>\n",
       "      <td>85.0</td>\n",
       "      <td>PHLBTV</td>\n",
       "    </tr>\n",
       "  </tbody>\n",
       "</table>\n",
       "</div>"
      ],
      "text/plain": [
       "    Origin Dest  Num_Total_flights  Num_Delayed_Flights  Delayed_Pct    Pair\n",
       "228    GSO  RDU                 11                   11        100.0  GSORDU\n",
       "351    JFK  EGE                 14                   13         92.9  JFKEGE\n",
       "352    MKG  GRR                 24                   22         91.7  MKGGRR\n",
       "355    EWR  BQN                731                  621         85.0  EWRBQN\n",
       "356    PHL  BTV                187                  159         85.0  PHLBTV"
      ]
     },
     "execution_count": 78,
     "metadata": {},
     "output_type": "execute_result"
    }
   ],
   "source": [
    "# Filter out the airport pairs with less than 10 total flights\n",
    "DepDelayPerWorstFiltered = Dep_Delay_Pct_W[Dep_Delay_Pct_W['Num_Total_flights']>10]\n",
    "# Display filtered results\n",
    "DepDelayPerWorstFiltered.head(5)"
   ]
  },
  {
   "cell_type": "code",
   "execution_count": 79,
   "metadata": {
    "collapsed": false
   },
   "outputs": [
    {
     "data": {
      "image/png": "[encoded data removed]",
      "text/plain": [
       "<matplotlib.figure.Figure at 0x6a0d090>"
      ]
     },
     "metadata": {},
     "output_type": "display_data"
    }
   ],
   "source": [
    "# Plot the first 20 pairs\n",
    "DepDelayPerWorstFiltered[:20].plot('Pair', 'Delayed_Pct', kind='bar')\n",
    "plt.title('Worst Departure Delays Filtered')\n",
    "plt.show()"
   ]
  },
  {
   "cell_type": "code",
   "execution_count": 84,
   "metadata": {
    "collapsed": true
   },
   "outputs": [],
   "source": [
    "# Resort by the lowest percentage first\n",
    "Dep_delays_pct_fewest = \\\n",
    "Dep_delays_pct.orderBy(\"Delayed_Pct\", ascending=True)"
   ]
  },
  {
   "cell_type": "code",
   "execution_count": 85,
   "metadata": {
    "collapsed": true
   },
   "outputs": [],
   "source": [
    "# Create a pandas dataframe\n",
    "Dep_Delay_Pct = Dep_delays_pct_fewest.toPandas()"
   ]
  },
  {
   "cell_type": "code",
   "execution_count": 86,
   "metadata": {
    "collapsed": false
   },
   "outputs": [],
   "source": [
    "# Create a new column that combines the names of the Origin and Destination\n",
    "Dep_Delay_Pct['Pair'] = Dep_Delay_Pct[\"Origin\"].map(str) + \\\n",
    "Dep_Delay_Pct[\"Dest\"]"
   ]
  },
  {
   "cell_type": "code",
   "execution_count": 87,
   "metadata": {
    "collapsed": false
   },
   "outputs": [
    {
     "data": {
      "image/png": "[encoded data removed]",
      "text/plain": [
       "<matplotlib.figure.Figure at 0x68d5590>"
      ]
     },
     "metadata": {},
     "output_type": "display_data"
    }
   ],
   "source": [
    "# Plot the pairs with the fewest departure delays\n",
    "Dep_Delay_Pct[:20].plot('Pair', 'Delayed_Pct', kind='bar')\n",
    "plt.title('Fewest Departure Delays')\n",
    "plt.show()"
   ]
  },
  {
   "cell_type": "code",
   "execution_count": 88,
   "metadata": {
    "collapsed": false
   },
   "outputs": [
    {
     "name": "stdout",
     "output_type": "stream",
     "text": [
      "+-----+------------------+\n",
      "|Month| Arrival_Delay_Avg|\n",
      "+-----+------------------+\n",
      "|    1| 9.667986057033914|\n",
      "|    2|13.297178217411446|\n",
      "|    3|10.628322125635558|\n",
      "|    4| 7.672969790755568|\n",
      "|    5| 6.518617856652074|\n",
      "|    6|  14.7405176819636|\n",
      "|    7|12.070300490176052|\n",
      "|    8| 9.828288695121863|\n",
      "|    9|2.3084593506287656|\n",
      "|   10| 3.642505640109871|\n",
      "|   11| 3.504175769425841|\n",
      "|   12|16.433224779052907|\n",
      "+-----+------------------+\n",
      "\n"
     ]
    }
   ],
   "source": [
    "# Calculate the average Arrival delay per month\n",
    "travel_months = sqlContext.sql(\"select Month, \\\n",
    "avg(ArrDelay) as Arrival_Delay_Avg \\\n",
    "from travel \\\n",
    "group by Month \\\n",
    "order by Month \\\n",
    "limit 12\")\n",
    "travel_months.show(12)"
   ]
  },
  {
   "cell_type": "code",
   "execution_count": 91,
   "metadata": {
    "collapsed": false
   },
   "outputs": [
    {
     "data": {
      "image/png": "[encoded data removed]",
      "text/plain": [
       "<matplotlib.figure.Figure at 0x6f589d0>"
      ]
     },
     "metadata": {},
     "output_type": "display_data"
    }
   ],
   "source": [
    "# Change the spark table into a pandas dataframe\n",
    "Delays_by_month = travel_months.toPandas()\n",
    "# Plot the average arrival delay by month\n",
    "Delays_by_month.plot('Month', 'Arrival_Delay_Avg', kind='bar')\n",
    "plt.title('Arrival Delays by Month')\n",
    "plt.show()"
   ]
  },
  {
   "cell_type": "code",
   "execution_count": null,
   "metadata": {
    "collapsed": true
   },
   "outputs": [],
   "source": []
  }
 ],
 "metadata": {
  "kernelspec": {
   "display_name": "pySpark (Spark 2.0.0)",
   "language": "python",
   "name": "pyspark2"
  },
  "language_info": {
   "codemirror_mode": {
    "name": "ipython",
    "version": 2
   },
   "file_extension": ".py",
   "mimetype": "text/x-python",
   "name": "python",
   "nbconvert_exporter": "python",
   "pygments_lexer": "ipython2",
   "version": "2.7.5"
  }
 },
 "nbformat": 4,
 "nbformat_minor": 2
}
