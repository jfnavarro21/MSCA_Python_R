{
 "cells": [
  {
   "cell_type": "code",
   "execution_count": 2,
   "metadata": {
    "collapsed": false
   },
   "outputs": [
    {
     "name": "stdout",
     "output_type": "stream",
     "text": [
      "Populating the interactive namespace from numpy and matplotlib\n"
     ]
    },
    {
     "name": "stderr",
     "output_type": "stream",
     "text": [
      "C:\\Users\\JohntheGreat\\Miniconda3\\lib\\site-packages\\IPython\\core\\magics\\pylab.py:161: UserWarning: pylab import has clobbered these variables: ['pylab']\n",
      "`%matplotlib` prevents importing * from pylab and numpy\n",
      "  \"\\n`%matplotlib` prevents importing * from pylab and numpy\"\n"
     ]
    }
   ],
   "source": [
    "from __future__ import division\n",
    "import nltk\n",
    "import string\n",
    "import os\n",
    "from nltk.corpus import stopwords\n",
    "from itertools import combinations\n",
    "import pylab\n",
    "%pylab inline"
   ]
  },
  {
   "cell_type": "code",
   "execution_count": 3,
   "metadata": {
    "collapsed": true
   },
   "outputs": [],
   "source": [
    "def ngram_compare_files(file1,file2,n):\n",
    "    # Takes two files\n",
    "    # hashes their n-grams into twos lists\n",
    "    # calculates the intersection and union\n",
    "    # of the two lists, and returns\n",
    "    # Jacard similarity value\n",
    " \n",
    "    stop = stopwords.words('english')\n",
    "    f1 = open(file1)\n",
    "    raw = f1.read()\n",
    "    f1.close()\n",
    "    f1_grams = nltk.ngrams(raw.split(),n)\n",
    "    \n",
    "    array_1 = []\n",
    "    \n",
    "    for gram in f1_grams:\n",
    "        array_1.append(hash(gram))\n",
    "    f2 = open(file2)\n",
    "    raw = f2.read()\n",
    "    f2.close()\n",
    "    f2_grams = nltk.ngrams(raw.split(),n)\n",
    "    \n",
    "    array_2 = []\n",
    "    \n",
    "    for gram in f2_grams:\n",
    "        array_2.append(hash(gram))\n",
    "        \n",
    "    intersection = len(list(set(array_1).intersection(array_2)) )\n",
    "    union = len(array_1) + len(array_2) - intersection\n",
    "    jacard_similarity = intersection / union\n",
    "    return jacard_similarity\n",
    "\n",
    "def pairs_of_files(directory):\n",
    "    # returns combination of two files given\n",
    "    # all files in a directory\n",
    "    \n",
    "    dir = os.listdir(directory)\n",
    "    combo = combinations(dir, 2)\n",
    "    return combo\n",
    "\n",
    "def compare_files(directory,ngram_size,threshold):\n",
    "    # compares all pairs of files in a directory\n",
    "    # for similarity.\n",
    "    # RETURNS: Dictionary, with key as\n",
    "    # comma-separated string of two files\n",
    "    # and value of similarity index as decimal\n",
    "    # where similarity index is above threshold\n",
    "    # value.\n",
    "    \n",
    "    compare_dictionary = {}\n",
    "    \n",
    "    ngram = ngram_size\n",
    "    combo = pairs_of_files(directory)\n",
    "    \n",
    "    for i in combo:\n",
    "        \n",
    "        sim = ngram_compare_files(directory+str(i[0]),directory+str(i[1]),ngram)\n",
    "        if sim > threshold:\n",
    "            \n",
    "            key = str(i[0]) + \",\" + str(i[1])\n",
    "            value = sim\n",
    "            compare_dictionary[key]=value\n",
    "            \n",
    "    return compare_dictionary       "
   ]
  },
  {
   "cell_type": "code",
   "execution_count": 4,
   "metadata": {
    "collapsed": false
   },
   "outputs": [
    {
     "name": "stdout",
     "output_type": "stream",
     "text": [
      "2:0.0598626648176\n",
      "3:0.0335858221272\n",
      "4:0.013442884896\n",
      "5:0.00880859783193\n",
      "6:0.00791395795459\n",
      "7:0.00777478824251\n",
      "8:0.00774170799063\n",
      "9:0.00770984126098\n",
      "10:0.00768258471338\n",
      "11:0.00765763370897\n",
      "12:0.00763896064113\n",
      "13:0.00762028889426\n",
      "14:0.00760238585785\n",
      "15:0.00758723764867\n",
      "16:0.00757209034419\n",
      "17:0.00755694394434\n",
      "18:0.00754179844902\n",
      "19:0.00752665385813\n",
      "20:0.0075115101716\n"
     ]
    }
   ],
   "source": [
    "x = []\n",
    "y = []\n",
    "for n in range(2,21):\n",
    "        \n",
    "    books_comparison = compare_files('C:\\\\Users\\\\JohntheGreat\\\\Documents\\\\MSCA\\\\BigData\\\\Week5TextAnalysis\\\\Assignment4\\\\Books\\\\',ngram_size=n,threshold=-1)\n",
    "    a = np.zeros(len(books_comparison))\n",
    "    counter = 0\n",
    "    for key, value in books_comparison.items():\n",
    "        a[counter] = value\n",
    "        counter +=1\n",
    "    print(str(n) + \":\" + str(a.mean()))\n",
    "    x.append(n)\n",
    "    y.append(a.mean()*100)"
   ]
  },
  {
   "cell_type": "code",
   "execution_count": 5,
   "metadata": {
    "collapsed": false
   },
   "outputs": [
    {
     "data": {
      "text/plain": [
       "<matplotlib.text.Text at 0x21d5b8555f8>"
      ]
     },
     "execution_count": 5,
     "metadata": {},
     "output_type": "execute_result"
    },
    {
     "data": {
      "image/png": "[encoded data removed]",
      "text/plain": [
       "<matplotlib.figure.Figure at 0x21d5b1cdb00>"
      ]
     },
     "metadata": {},
     "output_type": "display_data"
    }
   ],
   "source": [
    "pylab.plot(x,y)\n",
    "pylab.xlabel('n in n-grams')\n",
    "pylab.ylabel('Mean Similarity (pct)')\n",
    "pylab.title('Mean Similarity Across All Books per N n-gram')"
   ]
  },
  {
   "cell_type": "code",
   "execution_count": 6,
   "metadata": {
    "collapsed": false
   },
   "outputs": [
    {
     "name": "stdout",
     "output_type": "stream",
     "text": [
      "2:0.0108288386656\n",
      "3:0.00279715300897\n",
      "4:0.00187829031449\n",
      "5:0.00159221509379\n",
      "6:0.0014324079854\n",
      "7:0.00131953608751\n",
      "8:0.00121411430324\n",
      "9:0.00113855699351\n",
      "10:0.00107544011399\n",
      "11:0.00101760172729\n",
      "12:0.000975753279726\n",
      "13:0.000946946246189\n",
      "14:0.000918180811257\n",
      "15:0.000889456535074\n",
      "16:0.000860772981259\n",
      "17:0.000832129716848\n",
      "18:0.000806892865463\n",
      "19:0.000783335528773\n",
      "20:0.00076225836003\n"
     ]
    }
   ],
   "source": [
    "x = []\n",
    "y = []\n",
    "for n in range(2,21):\n",
    "    \n",
    "    art_comparison = compare_files('C:\\\\Users\\\\JohntheGreat\\\\Documents\\\\MSCA\\\\BigData\\\\Week5TextAnalysis\\\\Assignment4\\\\Articles\\\\',ngram_size=n,threshold=-1)\n",
    "    a = np.zeros(len(art_comparison))\n",
    "    counter = 0\n",
    "    for key, value in art_comparison.items():\n",
    "        a[counter] = value\n",
    "        counter +=1\n",
    "    print(str(n) + \":\" + str(a.mean()))\n",
    "    x.append(n)\n",
    "    y.append(a.mean()*100)"
   ]
  },
  {
   "cell_type": "code",
   "execution_count": 7,
   "metadata": {
    "collapsed": false
   },
   "outputs": [
    {
     "data": {
      "text/plain": [
       "<matplotlib.text.Text at 0x21d5b255f60>"
      ]
     },
     "execution_count": 7,
     "metadata": {},
     "output_type": "execute_result"
    },
    {
     "data": {
      "image/png": "[encoded data removed]",
      "text/plain": [
       "<matplotlib.figure.Figure at 0x21d5b49a2b0>"
      ]
     },
     "metadata": {},
     "output_type": "display_data"
    }
   ],
   "source": [
    "pylab.plot(x,y)\n",
    "pylab.xlabel('n in n-grams')\n",
    "pylab.ylabel('Mean Similarity (pct)')\n",
    "pylab.title('Mean Similarity Across All Articles per N n-gram')"
   ]
  },
  {
   "cell_type": "code",
   "execution_count": 8,
   "metadata": {
    "collapsed": false
   },
   "outputs": [
    {
     "name": "stdout",
     "output_type": "stream",
     "text": [
      "Adventures_of_Sherlock_Holmes.txt is similar to Hound_of_the_Baskervilles.txt with a Similarity Index of 1.827%\n",
      "\n",
      "\n",
      "Adventures_of_Sherlock_Holmes.txt is similar to Return_of_Sherlock_Holmes.txt with a Similarity Index of 1.518%\n",
      "\n",
      "\n",
      "Hound_of_the_Baskervilles.txt is similar to Return_of_Sherlock_Holmes.txt with a Similarity Index of 1.786%\n",
      "\n",
      "\n"
     ]
    }
   ],
   "source": [
    "books_comparison = compare_files('C:\\\\Users\\\\JohntheGreat\\\\Documents\\\\MSCA\\\\BigData\\\\Week5TextAnalysis\\\\Assignment4\\\\Books\\\\',ngram_size=5,threshold=0.00880859783193)\n",
    "\n",
    "for k,v in books_comparison.items():\n",
    "    book1, book2 = k.split(',')\n",
    "    similarity_index = v\n",
    "    print (str(book1) + \" is similar to \" + str(book2) + \n",
    "           \" with a Similarity Index of \" + '{percent:.3%}'.format(percent=similarity_index) +\"\\n\" +\"\\n\")"
   ]
  },
  {
   "cell_type": "code",
   "execution_count": 9,
   "metadata": {
    "collapsed": true
   },
   "outputs": [],
   "source": [
    "# The Sherlock Holmes books are all similar, between 1.5% and\n",
    "# 1.8%. The book 3 men in a boat is dissimilar from the others."
   ]
  },
  {
   "cell_type": "code",
   "execution_count": 12,
   "metadata": {
    "collapsed": false,
    "scrolled": false
   },
   "outputs": [
    {
     "name": "stdout",
     "output_type": "stream",
     "text": [
      "article16.txt is similar to article17.txt with a Similarity Index of 71.717%\n",
      "article40.txt is similar to article9.txt with a Similarity Index of 0.206%\n",
      "article1.txt is similar to article10.txt with a Similarity Index of 0.233%\n",
      "article21.txt is similar to article37.txt with a Similarity Index of 0.690%\n",
      "article14.txt is similar to article6.txt with a Similarity Index of 6.863%\n",
      "article21.txt is similar to article30.txt with a Similarity Index of 0.844%\n",
      "article31.txt is similar to article32.txt with a Similarity Index of 0.532%\n",
      "article26.txt is similar to article31.txt with a Similarity Index of 5.921%\n",
      "article6.txt is similar to article8.txt with a Similarity Index of 0.340%\n",
      "article14.txt is similar to article8.txt with a Similarity Index of 0.855%\n",
      "article10.txt is similar to article11.txt with a Similarity Index of 0.847%\n",
      "article22.txt is similar to article37.txt with a Similarity Index of 0.467%\n",
      "article18.txt is similar to article3.txt with a Similarity Index of 0.769%\n",
      "article10.txt is similar to article18.txt with a Similarity Index of 0.238%\n",
      "article28.txt is similar to article32.txt with a Similarity Index of 1.087%\n",
      "article7.txt is similar to article9.txt with a Similarity Index of 0.273%\n",
      "article10.txt is similar to article6.txt with a Similarity Index of 5.319%\n",
      "article10.txt is similar to article8.txt with a Similarity Index of 0.416%\n",
      "article22.txt is similar to article5.txt with a Similarity Index of 0.461%\n",
      "article10.txt is similar to article14.txt with a Similarity Index of 1.865%\n",
      "article23.txt is similar to article35.txt with a Similarity Index of 0.990%\n",
      "article26.txt is similar to article32.txt with a Similarity Index of 1.299%\n",
      "article1.txt is similar to article18.txt with a Similarity Index of 1.807%\n",
      "article11.txt is similar to article13.txt with a Similarity Index of 0.423%\n",
      "article1.txt is similar to article11.txt with a Similarity Index of 0.217%\n",
      "article26.txt is similar to article28.txt with a Similarity Index of 8.219%\n",
      "article3.txt is similar to article4.txt with a Similarity Index of 8.333%\n",
      "article28.txt is similar to article31.txt with a Similarity Index of 5.525%\n",
      "article10.txt is similar to article13.txt with a Similarity Index of 19.624%\n"
     ]
    }
   ],
   "source": [
    "articles_comparison = compare_files('C:\\\\Users\\\\JohntheGreat\\\\Documents\\\\MSCA\\\\BigData\\\\Week5TextAnalysis\\\\Assignment4\\\\Articles\\\\',ngram_size=4,threshold=0.00187829031449)\n",
    "\n",
    "for k,v in articles_comparison.items():\n",
    "    art1, art2 = k.split(',')\n",
    "    similarity_index = v\n",
    "    print (str(art1) + \" is similar to \" + str(art2) + \n",
    "           \" with a Similarity Index of \" + '{percent:.3%}'.format(percent=similarity_index))"
   ]
  },
  {
   "cell_type": "code",
   "execution_count": 11,
   "metadata": {
    "collapsed": true
   },
   "outputs": [],
   "source": [
    "# For the articles, we can see that 16 and 17 are the most similar at 71% and \n",
    "# articles 10 and 13 are at a 20% similarity. 14/6, 3/4, 10/6 and 14/6 all\n",
    "# have similarities above 5%\n",
    "\n",
    "\n",
    "# I chose n=5 for books, and n=4 for articles because that is where the \n",
    "# kinks incurves are on the Mean Similarity Charts. Using N's higher \n",
    "# than this leads to a similarity percentage level that tails off. \n",
    "\n",
    "# I assume that the n's for books and means are different because \n",
    "# of sample size when looking at the similarities. The total texts \n",
    "# of the books are much longer than the total texts of the articles. \n",
    "# So for the books, we can have larger n-gramsthat are similar, \n",
    "# vs in the shorter articles."
   ]
  },
  {
   "cell_type": "code",
   "execution_count": null,
   "metadata": {
    "collapsed": true
   },
   "outputs": [],
   "source": []
  }
 ],
 "metadata": {
  "anaconda-cloud": {},
  "kernelspec": {
   "display_name": "Python [default]",
   "language": "python",
   "name": "python3"
  },
  "language_info": {
   "codemirror_mode": {
    "name": "ipython",
    "version": 3
   },
   "file_extension": ".py",
   "mimetype": "text/x-python",
   "name": "python",
   "nbconvert_exporter": "python",
   "pygments_lexer": "ipython3",
   "version": "3.5.2"
  }
 },
 "nbformat": 4,
 "nbformat_minor": 2
}
